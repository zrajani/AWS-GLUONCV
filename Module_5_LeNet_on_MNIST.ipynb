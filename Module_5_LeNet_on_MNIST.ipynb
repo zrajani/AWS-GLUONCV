{
  "nbformat": 4,
  "nbformat_minor": 0,
  "metadata": {
    "coursera": {
      "assignment_name": "module_5",
      "assignment_version": 2,
      "course_slug": "aws-computer-vision-gluoncv",
      "graded_item_id": "41Qtj",
      "launcher_item_id": "Xfrqm"
    },
    "kernelspec": {
      "name": "python3",
      "display_name": "Python 3"
    },
    "language_info": {
      "codemirror_mode": {
        "name": "ipython",
        "version": 3
      },
      "file_extension": ".py",
      "mimetype": "text/x-python",
      "name": "python",
      "nbconvert_exporter": "python",
      "pygments_lexer": "ipython3",
      "version": "3.7.3"
    },
    "colab": {
      "name": "Module 5 - LeNet on MNIST.ipynb",
      "provenance": [],
      "include_colab_link": true
    },
    "accelerator": "GPU"
  },
  "cells": [
    {
      "cell_type": "markdown",
      "metadata": {
        "id": "view-in-github",
        "colab_type": "text"
      },
      "source": [
        "<a href=\"https://colab.research.google.com/github/phreakyphoenix/MXNet-GluonCV-AWS-Coursera/blob/master/Module_5_LeNet_on_MNIST.ipynb\" target=\"_parent\"><img src=\"https://colab.research.google.com/assets/colab-badge.svg\" alt=\"Open In Colab\"/></a>"
      ]
    },
    {
      "cell_type": "markdown",
      "metadata": {
        "deletable": false,
        "editable": false,
        "nbgrader": {
          "cell_type": "markdown",
          "checksum": "0e8091e464a23408ec969c0fd02b3210",
          "grade": false,
          "grade_id": "intro",
          "locked": true,
          "schema_version": 3,
          "solution": false
        },
        "id": "RzbxWViy9Z4H",
        "colab_type": "text"
      },
      "source": [
        "# Graded Assessment\n",
        "\n",
        "In this assessment you will write a full end-to-end training process using gluon and MXNet. We will train the LeNet-5 classifier network on the MNIST dataset. The network will be defined for you but you have to fill in code to prepare the dataset, train the network, and evaluate it's performance on a held out dataset."
      ]
    },
    {
      "cell_type": "code",
      "metadata": {
        "id": "cKOIt7sN9uwg",
        "colab_type": "code",
        "colab": {
          "base_uri": "https://localhost:8080/",
          "height": 87
        },
        "outputId": "475591d8-0eae-4bba-98bb-0f611d4b195c"
      },
      "source": [
        "#Check CUDA version\n",
        "!nvcc --version"
      ],
      "execution_count": 1,
      "outputs": [
        {
          "output_type": "stream",
          "text": [
            "nvcc: NVIDIA (R) Cuda compiler driver\n",
            "Copyright (c) 2005-2019 NVIDIA Corporation\n",
            "Built on Sun_Jul_28_19:07:16_PDT_2019\n",
            "Cuda compilation tools, release 10.1, V10.1.243\n"
          ],
          "name": "stdout"
        }
      ]
    },
    {
      "cell_type": "code",
      "metadata": {
        "id": "dQ5rWGcO9yIh",
        "colab_type": "code",
        "colab": {
          "base_uri": "https://localhost:8080/",
          "height": 557
        },
        "outputId": "8941777d-1635-4a16-b8b8-213ccfb6f1b3"
      },
      "source": [
        "#Install appropriate MXNet version\n",
        "'''\n",
        "For eg if CUDA version is 10.0 choose mxnet cu100mkl \n",
        "where cu adds CUDA GPU support\n",
        "and mkl adds Intel CPU Math Kernel Library support\n",
        "'''\n",
        "!pip install mxnet-cu101mkl gluoncv"
      ],
      "execution_count": 2,
      "outputs": [
        {
          "output_type": "stream",
          "text": [
            "Collecting mxnet-cu101mkl\n",
            "\u001b[?25l  Downloading https://files.pythonhosted.org/packages/3d/4b/e51dc49ca5fe6564028e7c91b10a3f79c00d710dd691b408c77597df5883/mxnet_cu101mkl-1.6.0-py2.py3-none-manylinux1_x86_64.whl (711.0MB)\n",
            "\u001b[K     |████████████████████████████████| 711.0MB 26kB/s \n",
            "\u001b[?25hCollecting gluoncv\n",
            "\u001b[?25l  Downloading https://files.pythonhosted.org/packages/69/4d/d9d6b9261af8f7251977bb97be669a3908f72bdec9d3597e527712d384c2/gluoncv-0.6.0-py2.py3-none-any.whl (693kB)\n",
            "\u001b[K     |████████████████████████████████| 696kB 43.7MB/s \n",
            "\u001b[?25hRequirement already satisfied: requests<3,>=2.20.0 in /usr/local/lib/python3.6/dist-packages (from mxnet-cu101mkl) (2.21.0)\n",
            "Requirement already satisfied: numpy<2.0.0,>1.16.0 in /usr/local/lib/python3.6/dist-packages (from mxnet-cu101mkl) (1.18.2)\n",
            "Collecting graphviz<0.9.0,>=0.8.1\n",
            "  Downloading https://files.pythonhosted.org/packages/53/39/4ab213673844e0c004bed8a0781a0721a3f6bb23eb8854ee75c236428892/graphviz-0.8.4-py2.py3-none-any.whl\n",
            "Collecting portalocker\n",
            "  Downloading https://files.pythonhosted.org/packages/53/84/7b3146ec6378d28abc73ab484f09f47dfa008ad6f03f33d90a369f880e25/portalocker-1.7.0-py2.py3-none-any.whl\n",
            "Requirement already satisfied: matplotlib in /usr/local/lib/python3.6/dist-packages (from gluoncv) (3.2.1)\n",
            "Requirement already satisfied: scipy in /usr/local/lib/python3.6/dist-packages (from gluoncv) (1.4.1)\n",
            "Requirement already satisfied: tqdm in /usr/local/lib/python3.6/dist-packages (from gluoncv) (4.38.0)\n",
            "Requirement already satisfied: Pillow in /usr/local/lib/python3.6/dist-packages (from gluoncv) (7.0.0)\n",
            "Requirement already satisfied: chardet<3.1.0,>=3.0.2 in /usr/local/lib/python3.6/dist-packages (from requests<3,>=2.20.0->mxnet-cu101mkl) (3.0.4)\n",
            "Requirement already satisfied: urllib3<1.25,>=1.21.1 in /usr/local/lib/python3.6/dist-packages (from requests<3,>=2.20.0->mxnet-cu101mkl) (1.24.3)\n",
            "Requirement already satisfied: certifi>=2017.4.17 in /usr/local/lib/python3.6/dist-packages (from requests<3,>=2.20.0->mxnet-cu101mkl) (2020.4.5.1)\n",
            "Requirement already satisfied: idna<2.9,>=2.5 in /usr/local/lib/python3.6/dist-packages (from requests<3,>=2.20.0->mxnet-cu101mkl) (2.8)\n",
            "Requirement already satisfied: kiwisolver>=1.0.1 in /usr/local/lib/python3.6/dist-packages (from matplotlib->gluoncv) (1.2.0)\n",
            "Requirement already satisfied: python-dateutil>=2.1 in /usr/local/lib/python3.6/dist-packages (from matplotlib->gluoncv) (2.8.1)\n",
            "Requirement already satisfied: cycler>=0.10 in /usr/local/lib/python3.6/dist-packages (from matplotlib->gluoncv) (0.10.0)\n",
            "Requirement already satisfied: pyparsing!=2.0.4,!=2.1.2,!=2.1.6,>=2.0.1 in /usr/local/lib/python3.6/dist-packages (from matplotlib->gluoncv) (2.4.7)\n",
            "Requirement already satisfied: six>=1.5 in /usr/local/lib/python3.6/dist-packages (from python-dateutil>=2.1->matplotlib->gluoncv) (1.12.0)\n",
            "Installing collected packages: graphviz, mxnet-cu101mkl, portalocker, gluoncv\n",
            "  Found existing installation: graphviz 0.10.1\n",
            "    Uninstalling graphviz-0.10.1:\n",
            "      Successfully uninstalled graphviz-0.10.1\n",
            "Successfully installed gluoncv-0.6.0 graphviz-0.8.4 mxnet-cu101mkl-1.6.0 portalocker-1.7.0\n"
          ],
          "name": "stdout"
        }
      ]
    },
    {
      "cell_type": "code",
      "metadata": {
        "id": "BS3bhPnj9Z4M",
        "colab_type": "code",
        "colab": {}
      },
      "source": [
        "from pathlib import Path\n",
        "from mxnet import gluon, metric, autograd, init, nd\n",
        "import os\n",
        "import mxnet as mx"
      ],
      "execution_count": 0,
      "outputs": []
    },
    {
      "cell_type": "code",
      "metadata": {
        "id": "V_e6xJwO-I_j",
        "colab_type": "code",
        "colab": {
          "base_uri": "https://localhost:8080/",
          "height": 124
        },
        "outputId": "5f9894b3-2053-4108-fa98-f375868714a1"
      },
      "source": [
        "#I downloaded the files from Coursera and hosted on my gdrive:\n",
        "from google.colab import drive\n",
        "drive.mount('/content/drive')"
      ],
      "execution_count": 4,
      "outputs": [
        {
          "output_type": "stream",
          "text": [
            "Go to this URL in a browser: https://accounts.google.com/o/oauth2/auth?client_id=947318989803-6bn6qk8qdgf4n4g3pfee6491hc0brc4i.apps.googleusercontent.com&redirect_uri=urn%3aietf%3awg%3aoauth%3a2.0%3aoob&response_type=code&scope=email%20https%3a%2f%2fwww.googleapis.com%2fauth%2fdocs.test%20https%3a%2f%2fwww.googleapis.com%2fauth%2fdrive%20https%3a%2f%2fwww.googleapis.com%2fauth%2fdrive.photos.readonly%20https%3a%2f%2fwww.googleapis.com%2fauth%2fpeopleapi.readonly\n",
            "\n",
            "Enter your authorization code:\n",
            "··········\n",
            "Mounted at /content/drive\n"
          ],
          "name": "stdout"
        }
      ]
    },
    {
      "cell_type": "code",
      "metadata": {
        "id": "rpAUbpWt9Z4g",
        "colab_type": "code",
        "colab": {}
      },
      "source": [
        "# M5_DATA = Path(os.getenv('DATA_DIR', '../../data'), 'module_5')\n",
        "M5_DATA = Path('/content/drive/My Drive/CourseraWork/MXNetAWS/data/module_5')\n",
        "M5_IMAGES = Path(M5_DATA, 'images')"
      ],
      "execution_count": 0,
      "outputs": []
    },
    {
      "cell_type": "markdown",
      "metadata": {
        "id": "-pb8AdHK9Z4t",
        "colab_type": "text"
      },
      "source": [
        "---\n",
        "## Question 1\n",
        "\n",
        "### Prepare and the data and construct the dataloader\n",
        "\n",
        "* First, get the MNIST dataset from `gluon.data.vision.datasets`. Use\n",
        "* Don't forget the ToTensor and normalize Transformations. Use `0.13` and `0.31` as the mean and standard deviation respectively\n",
        "* Construct the dataloader with the batch size provide. Ensure that the train_dataloader is shuffled.\n",
        "\n",
        "<font color='red'>**CAUTION!**</font>: Although the notebook interface has internet connectivity, the **autograders are not permitted to access the internet**. We have already downloaded the correct models and data for you to use so you don't need access to the internet. Set the `root` parameter to `M5_IMAGES` when using a preset dataset. Usually, in the real world, you have internet access, so setting the `root` parameter isn't required (and it's set to `~/.mxnet` by default)."
      ]
    },
    {
      "cell_type": "code",
      "metadata": {
        "deletable": false,
        "nbgrader": {
          "cell_type": "code",
          "checksum": "76feab6f5d6bfbaea6fb22f1123193db",
          "grade": false,
          "grade_id": "dataloader",
          "locked": false,
          "schema_version": 3,
          "solution": true,
          "task": false
        },
        "id": "DMSdQ2SY9Z4w",
        "colab_type": "code",
        "colab": {}
      },
      "source": [
        "import os\n",
        "from pathlib import Path\n",
        "from mxnet.gluon.data.vision import transforms\n",
        "import numpy as np\n",
        "def get_mnist_data(batch=128):\n",
        "    \"\"\"\n",
        "    Should construct a dataloader with the MNIST Dataset with the necessary transforms applied.\n",
        "    \n",
        "    :param batch: batch size for the DataLoader.\n",
        "    :type batch: int\n",
        "    \n",
        "    :return: a tuple of the training and validation DataLoaders\n",
        "    :rtype: (gluon.data.DataLoader, gluon.data.DataLoader)\n",
        "    \"\"\"\n",
        "    \n",
        "    def transformer(data, label):\n",
        "        data = data.flatten().expand_dims(0).astype(np.float32)/255\n",
        "        data = data-0.13/0.31\n",
        "        label = label.astype(np.float32)\n",
        "        return data, label\n",
        "\n",
        "    train_dataset = gluon.data.vision.datasets.MNIST(root=M5_IMAGES, train=True, transform=transformer)\n",
        "    validation_dataset = gluon.data.vision.datasets.MNIST(root=M5_IMAGES, train=False, transform=transformer)\n",
        "    train_dataloader = gluon.data.DataLoader(train_dataset, batch_size=batch, last_batch='keep',shuffle=True)\n",
        "    validation_dataloader = gluon.data.DataLoader(validation_dataset, batch_size=batch, last_batch='keep')\n",
        "    \n",
        "    return train_dataloader, validation_dataloader"
      ],
      "execution_count": 0,
      "outputs": []
    },
    {
      "cell_type": "code",
      "metadata": {
        "deletable": false,
        "editable": false,
        "nbgrader": {
          "cell_type": "code",
          "checksum": "c387d345f38422234a55e70a4c5be8a5",
          "grade": true,
          "grade_id": "cell-3ec320323b376193",
          "locked": true,
          "points": 3,
          "schema_version": 3,
          "solution": false,
          "task": false
        },
        "id": "y0kf06zb9Z43",
        "colab_type": "code",
        "colab": {}
      },
      "source": [
        "t, v = get_mnist_data()\n",
        "assert isinstance(t, gluon.data.DataLoader)\n",
        "assert isinstance(v, gluon.data.DataLoader)\n",
        "\n",
        "d, l = next(iter(t))\n",
        "assert d.shape == (128, 1, 28, 28) #check Channel First and Batch Size\n",
        "assert l.shape == (128,)\n",
        "\n",
        "assert nd.max(d).asscalar() <= 2.9 # check for normalization\n",
        "assert nd.min(d).asscalar() >= -0.5 # check for normalization"
      ],
      "execution_count": 0,
      "outputs": []
    },
    {
      "cell_type": "markdown",
      "metadata": {
        "id": "epTry8v49Z5B",
        "colab_type": "text"
      },
      "source": [
        "---\n",
        "\n",
        "## Question 2\n",
        "\n",
        "### Write the training loop\n",
        "\n",
        "* Create the loss function. This should be a loss function suitable for multi-class classification.\n",
        "* Create the metric accumulator. This should the compute and store the accuracy of the model during training\n",
        "* Create the trainer with the `adam` optimizer and learning rate of `0.002`\n",
        "* Write the training loop"
      ]
    },
    {
      "cell_type": "code",
      "metadata": {
        "deletable": false,
        "nbgrader": {
          "cell_type": "code",
          "checksum": "8acde078dd45fdcdf1024bf06f2d463a",
          "grade": false,
          "grade_id": "train",
          "locked": false,
          "schema_version": 3,
          "solution": true
        },
        "id": "2_xyO1kX9Z5C",
        "colab_type": "code",
        "colab": {}
      },
      "source": [
        "def train(network, training_dataloader, batch_size, epochs):\n",
        "    \"\"\"\n",
        "    Should take an initialized network and train that network using data from the data loader.\n",
        "    \n",
        "    :param network: initialized gluon network to be trained\n",
        "    :type network: gluon.Block\n",
        "    \n",
        "    :param training_dataloader: the training DataLoader provides batches for data for every iteration\n",
        "    :type training_dataloader: gluon.data.DataLoader\n",
        "    \n",
        "    :param batch_size: batch size for the DataLoader.\n",
        "    :type batch_size: int\n",
        "    \n",
        "    :param epochs: number of epochs to train the DataLoader\n",
        "    :type epochs: int\n",
        "    \n",
        "    :return: tuple of trained network and the final training accuracy\n",
        "    :rtype: (gluon.Block, float)\n",
        "    \"\"\"\n",
        "    trainer = gluon.Trainer(network.collect_params(), 'adam',\n",
        "                            {'learning_rate': 0.002})\n",
        "    metric = mx.metric.Accuracy()\n",
        "    \n",
        "    for epoch in range(epochs):\n",
        "        train_loss =0.\n",
        "        for data,label in training_dataloader:\n",
        "        \n",
        "#             print (data.shape)\n",
        "#             print (label.shape)\n",
        "            with autograd.record():\n",
        "                output = network(data)\n",
        "                loss=mx.ndarray.softmax_cross_entropy(output,label)\n",
        "            loss.backward()\n",
        "\n",
        "            trainer.step(batch_size)\n",
        "            train_loss += loss.mean().asscalar()\n",
        "            metric.update(label, output)\n",
        "            \n",
        "        print (epoch , metric.get()[1])    \n",
        "        training_accuracy = metric.get()[1]\n",
        "    return network, training_accuracy"
      ],
      "execution_count": 0,
      "outputs": []
    },
    {
      "cell_type": "markdown",
      "metadata": {
        "id": "5hC1UYvB9Z5H",
        "colab_type": "text"
      },
      "source": [
        "Let's define and initialize a network to test the train function."
      ]
    },
    {
      "cell_type": "code",
      "metadata": {
        "deletable": false,
        "editable": false,
        "nbgrader": {
          "cell_type": "code",
          "checksum": "8abd21a4f3135d1dbcc9be72805ef5cb",
          "grade": false,
          "grade_id": "cell-5dc7b1444f1d3c8d",
          "locked": true,
          "schema_version": 3,
          "solution": false,
          "task": false
        },
        "id": "mBWasVrF9Z5I",
        "colab_type": "code",
        "colab": {}
      },
      "source": [
        "net = gluon.nn.Sequential()\n",
        "net.add(gluon.nn.Conv2D(channels=6, kernel_size=5, activation='relu'),\n",
        "        gluon.nn.MaxPool2D(pool_size=2, strides=2),\n",
        "        gluon.nn.Conv2D(channels=16, kernel_size=3, activation='relu'),\n",
        "        gluon.nn.MaxPool2D(pool_size=2, strides=2),\n",
        "        gluon.nn.Flatten(),\n",
        "        gluon.nn.Dense(120, activation=\"relu\"),\n",
        "        gluon.nn.Dense(84, activation=\"relu\"),\n",
        "        gluon.nn.Dense(10))\n",
        "net.initialize(init=init.Xavier())"
      ],
      "execution_count": 0,
      "outputs": []
    },
    {
      "cell_type": "code",
      "metadata": {
        "deletable": false,
        "editable": false,
        "nbgrader": {
          "cell_type": "code",
          "checksum": "2c656d1560729cafad572b40321feb40",
          "grade": true,
          "grade_id": "cell-9d116b0901b24fcc",
          "locked": true,
          "points": 5,
          "schema_version": 3,
          "solution": false,
          "task": false
        },
        "id": "GCR4-mR39Z5O",
        "colab_type": "code",
        "colab": {
          "base_uri": "https://localhost:8080/",
          "height": 104
        },
        "outputId": "ba004093-1d09-4cb5-f171-c767e316febc"
      },
      "source": [
        "n, ta = train(net, t, 128, 5)\n",
        "assert ta >= .95\n",
        "\n",
        "d, l = next(iter(v))\n",
        "p = (n(d).argmax(axis=1))\n",
        "assert (p.asnumpy() == l.asnumpy()).sum()/128.0 > .95"
      ],
      "execution_count": 10,
      "outputs": [
        {
          "output_type": "stream",
          "text": [
            "0 0.93415\n",
            "1 0.9572583333333333\n",
            "2 0.9668111111111111\n",
            "3 0.972375\n",
            "4 0.97606\n"
          ],
          "name": "stdout"
        }
      ]
    },
    {
      "cell_type": "markdown",
      "metadata": {
        "id": "v_jGwmpW9Z5T",
        "colab_type": "text"
      },
      "source": [
        "---\n",
        "## Question 3\n",
        "\n",
        "### Write the validation loop\n",
        "\n",
        "* Create the metric accumulator. This should the compute and store the accuracy of the model on the validation set\n",
        "* Write the validation loop"
      ]
    },
    {
      "cell_type": "code",
      "metadata": {
        "deletable": false,
        "nbgrader": {
          "cell_type": "code",
          "checksum": "fc0114df7022ddbc77032c1906e5152b",
          "grade": false,
          "grade_id": "sum_of_squares_application",
          "locked": false,
          "schema_version": 3,
          "solution": true,
          "task": false
        },
        "id": "AGtKGnVz9Z5U",
        "colab_type": "code",
        "colab": {}
      },
      "source": [
        "def validate(network, validation_dataloader):\n",
        "    \"\"\"\n",
        "    Should compute the accuracy of the network on the validation set.\n",
        "    \n",
        "    :param network: initialized gluon network to be trained\n",
        "    :type network: gluon.Block\n",
        "    \n",
        "    :param validation_dataloader: the training DataLoader provides batches for data for every iteration\n",
        "    :type validation_dataloader: gluon.data.DataLoader\n",
        "    \n",
        "    :return: validation accuracy\n",
        "    :rtype: float\n",
        "    \"\"\"\n",
        "    val_acc = mx.metric.Accuracy()\n",
        "    for data,label in validation_dataloader:\n",
        "        output = network(data)\n",
        "        val_acc.update(label,output)\n",
        "    print (val_acc.get()[1])\n",
        "    return val_acc.get()[1]"
      ],
      "execution_count": 0,
      "outputs": []
    },
    {
      "cell_type": "code",
      "metadata": {
        "deletable": false,
        "editable": false,
        "nbgrader": {
          "cell_type": "code",
          "checksum": "19f3df97df6a26277d48eb1baf703a45",
          "grade": true,
          "grade_id": "cell-5a2130f381810258",
          "locked": true,
          "points": 2,
          "schema_version": 3,
          "solution": false,
          "task": false
        },
        "id": "pDoNU5u89Z5Z",
        "colab_type": "code",
        "colab": {
          "base_uri": "https://localhost:8080/",
          "height": 35
        },
        "outputId": "e996f20e-9311-489f-ecad-a54e130254e6"
      },
      "source": [
        "assert validate(n, v) > .95"
      ],
      "execution_count": 16,
      "outputs": [
        {
          "output_type": "stream",
          "text": [
            "0.9896\n"
          ],
          "name": "stdout"
        }
      ]
    },
    {
      "cell_type": "code",
      "metadata": {
        "colab_type": "code",
        "id": "7BSw95b3AaYy",
        "colab": {}
      },
      "source": [
        ""
      ],
      "execution_count": 0,
      "outputs": []
    }
  ]
}